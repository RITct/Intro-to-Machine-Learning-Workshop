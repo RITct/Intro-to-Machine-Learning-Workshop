{
 "cells": [
  {
   "cell_type": "markdown",
   "metadata": {},
   "source": [
    "Importing packages"
   ]
  },
  {
   "cell_type": "code",
   "execution_count": 1,
   "metadata": {},
   "outputs": [
    {
     "name": "stdout",
     "output_type": "stream",
     "text": [
      "1.12.0\n"
     ]
    }
   ],
   "source": [
    "from __future__ import absolute_import, division, print_function\n",
    "\n",
    "import tensorflow as tf\n",
    "from tensorflow import keras\n",
    "\n",
    "import numpy as np\n",
    "\n",
    "print(tf.__version__)"
   ]
  },
  {
   "cell_type": "markdown",
   "metadata": {},
   "source": [
    "Download the datasets"
   ]
  },
  {
   "cell_type": "code",
   "execution_count": 2,
   "metadata": {},
   "outputs": [],
   "source": [
    "imdb = keras.datasets.imdb\n",
    "\n",
    "(train_data, train_labels), (test_data, test_labels) = imdb.load_data(num_words=10000)"
   ]
  },
  {
   "cell_type": "markdown",
   "metadata": {},
   "source": [
    "Exploring datasets"
   ]
  },
  {
   "cell_type": "code",
   "execution_count": 3,
   "metadata": {},
   "outputs": [
    {
     "name": "stdout",
     "output_type": "stream",
     "text": [
      "Training entries: 25000, labels: 25000\n",
      "[1, 14, 22, 16, 43, 530, 973, 1622, 1385, 65, 458, 4468, 66, 3941, 4, 173, 36, 256, 5, 25, 100, 43, 838, 112, 50, 670, 2, 9, 35, 480, 284, 5, 150, 4, 172, 112, 167, 2, 336, 385, 39, 4, 172, 4536, 1111, 17, 546, 38, 13, 447, 4, 192, 50, 16, 6, 147, 2025, 19, 14, 22, 4, 1920, 4613, 469, 4, 22, 71, 87, 12, 16, 43, 530, 38, 76, 15, 13, 1247, 4, 22, 17, 515, 17, 12, 16, 626, 18, 2, 5, 62, 386, 12, 8, 316, 8, 106, 5, 4, 2223, 5244, 16, 480, 66, 3785, 33, 4, 130, 12, 16, 38, 619, 5, 25, 124, 51, 36, 135, 48, 25, 1415, 33, 6, 22, 12, 215, 28, 77, 52, 5, 14, 407, 16, 82, 2, 8, 4, 107, 117, 5952, 15, 256, 4, 2, 7, 3766, 5, 723, 36, 71, 43, 530, 476, 26, 400, 317, 46, 7, 4, 2, 1029, 13, 104, 88, 4, 381, 15, 297, 98, 32, 2071, 56, 26, 141, 6, 194, 7486, 18, 4, 226, 22, 21, 134, 476, 26, 480, 5, 144, 30, 5535, 18, 51, 36, 28, 224, 92, 25, 104, 4, 226, 65, 16, 38, 1334, 88, 12, 16, 283, 5, 16, 4472, 113, 103, 32, 15, 16, 5345, 19, 178, 32]\n"
     ]
    }
   ],
   "source": [
    "print(\"Training entries: {}, labels: {}\".format(len(train_data), len(train_labels)))\n",
    "print(train_data[0])"
   ]
  },
  {
   "cell_type": "markdown",
   "metadata": {},
   "source": [
    "Converting code to indexes"
   ]
  },
  {
   "cell_type": "code",
   "execution_count": 4,
   "metadata": {},
   "outputs": [],
   "source": [
    "word_index = imdb.get_word_index()\n",
    "\n",
    "word_index = {k:(v+3) for k,v in word_index.items()} \n",
    "word_index[\"<PAD>\"] = 0\n",
    "word_index[\"<START>\"] = 1\n",
    "word_index[\"<UNK>\"] = 2  # unknown\n",
    "word_index[\"<UNUSED>\"] = 3\n",
    "\n",
    "reverse_word_index = dict([(value, key) for (key, value) in word_index.items()])\n",
    "\n",
    "def decode_review(text):\n",
    "    return ' '.join([reverse_word_index.get(i, '?') for i in text])"
   ]
  },
  {
   "cell_type": "markdown",
   "metadata": {},
   "source": [
    "Use decode review for displaying the text"
   ]
  },
  {
   "cell_type": "code",
   "execution_count": 5,
   "metadata": {},
   "outputs": [
    {
     "data": {
      "text/plain": [
       "\"<START> this film was just brilliant casting location scenery story direction everyone's really suited the part they played and you could just imagine being there robert <UNK> is an amazing actor and now the same being director <UNK> father came from the same scottish island as myself so i loved the fact there was a real connection with this film the witty remarks throughout the film were great it was just brilliant so much that i bought the film as soon as it was released for <UNK> and would recommend it to everyone to watch and the fly fishing was amazing really cried at the end it was so sad and you know what they say if you cry at a film it must have been good and this definitely was also <UNK> to the two little boy's that played the <UNK> of norman and paul they were just brilliant children are often left out of the <UNK> list i think because the stars that play them all grown up are such a big profile for the whole film but these children are amazing and should be praised for what they have done don't you think the whole story was so lovely because it was true and was someone's life after all that was shared with us all\""
      ]
     },
     "execution_count": 5,
     "metadata": {},
     "output_type": "execute_result"
    }
   ],
   "source": [
    "decode_review(train_data[0])"
   ]
  },
  {
   "cell_type": "markdown",
   "metadata": {},
   "source": [
    "Preparation of dataset"
   ]
  },
  {
   "cell_type": "code",
   "execution_count": 6,
   "metadata": {
    "collapsed": true
   },
   "outputs": [],
   "source": [
    "train_data = keras.preprocessing.sequence.pad_sequences(train_data,\n",
    "                                                        value=0,\n",
    "                                                        padding='post',\n",
    "                                                        maxlen=5)\n",
    "\n",
    "test_data = keras.preprocessing.sequence.pad_sequences(test_data,\n",
    "                                                       value=word_index[\"<PAD>\"],\n",
    "                                                       padding='post',\n",
    "                                                       maxlen=256)"
   ]
  },
  {
   "cell_type": "markdown",
   "metadata": {},
   "source": [
    "Length and padding"
   ]
  },
  {
   "cell_type": "code",
   "execution_count": 7,
   "metadata": {},
   "outputs": [
    {
     "name": "stdout",
     "output_type": "stream",
     "text": [
      "[1 0 0 ... 0 1 0]\n"
     ]
    }
   ],
   "source": [
    "len(train_data[0]), len(train_data[1])\n",
    "print(train_labels)"
   ]
  },
  {
   "cell_type": "markdown",
   "metadata": {},
   "source": [
    "Building the model"
   ]
  },
  {
   "cell_type": "code",
   "execution_count": 8,
   "metadata": {},
   "outputs": [
    {
     "name": "stdout",
     "output_type": "stream",
     "text": [
      "_________________________________________________________________\n",
      "Layer (type)                 Output Shape              Param #   \n",
      "=================================================================\n",
      "embedding (Embedding)        (None, None, 16)          160000    \n",
      "_________________________________________________________________\n",
      "lstm (LSTM)                  (None, 16)                2112      \n",
      "_________________________________________________________________\n",
      "dense (Dense)                (None, 1)                 17        \n",
      "=================================================================\n",
      "Total params: 162,129\n",
      "Trainable params: 162,129\n",
      "Non-trainable params: 0\n",
      "_________________________________________________________________\n"
     ]
    }
   ],
   "source": [
    "vocab_size = 10000\n",
    "\n",
    "model = keras.Sequential()\n",
    "model.add(keras.layers.Embedding(vocab_size, 16))\n",
    "model.add(keras.layers.LSTM(16))\n",
    "model.add(keras.layers.Dense(1, activation=tf.nn.sigmoid))\n",
    "\n",
    "model.summary()"
   ]
  },
  {
   "cell_type": "markdown",
   "metadata": {},
   "source": [
    "Configuring the model"
   ]
  },
  {
   "cell_type": "code",
   "execution_count": 9,
   "metadata": {
    "collapsed": true
   },
   "outputs": [],
   "source": [
    "model.compile(optimizer='adam',\n",
    "              loss='binary_crossentropy',\n",
    "              metrics=['accuracy'])"
   ]
  },
  {
   "cell_type": "markdown",
   "metadata": {},
   "source": [
    "Creating validation set"
   ]
  },
  {
   "cell_type": "code",
   "execution_count": 12,
   "metadata": {
    "collapsed": true
   },
   "outputs": [],
   "source": [
    "x_val = train_data[:10000]\n",
    "partial_x_train = train_data[10000:]\n",
    "y_val = train_labels[:10000]\n",
    "partial_y_train = train_labels[10000:]"
   ]
  },
  {
   "cell_type": "markdown",
   "metadata": {},
   "source": [
    "Training.."
   ]
  },
  {
   "cell_type": "code",
   "execution_count": 13,
   "metadata": {},
   "outputs": [
    {
     "name": "stderr",
     "output_type": "stream",
     "text": [
      "/usr/local/Cellar/python3/3.6.1/Frameworks/Python.framework/Versions/3.6/lib/python3.6/site-packages/tensorflow/python/ops/gradients_impl.py:112: UserWarning: Converting sparse IndexedSlices to a dense Tensor of unknown shape. This may consume a large amount of memory.\n",
      "  \"Converting sparse IndexedSlices to a dense Tensor of unknown shape. \"\n"
     ]
    },
    {
     "name": "stdout",
     "output_type": "stream",
     "text": [
      "Train on 15000 samples, validate on 10000 samples\n",
      "Epoch 1/40\n",
      "15000/15000 [==============================] - 2s 120us/step - loss: 0.6919 - acc: 0.5507 - val_loss: 0.6893 - val_acc: 0.5945\n",
      "Epoch 2/40\n",
      "15000/15000 [==============================] - 0s 31us/step - loss: 0.6811 - acc: 0.6612 - val_loss: 0.6725 - val_acc: 0.6381\n",
      "Epoch 3/40\n",
      "15000/15000 [==============================] - 0s 29us/step - loss: 0.6412 - acc: 0.6938 - val_loss: 0.6309 - val_acc: 0.6504\n",
      "Epoch 4/40\n",
      "15000/15000 [==============================] - 0s 31us/step - loss: 0.5701 - acc: 0.7203 - val_loss: 0.6137 - val_acc: 0.6606\n",
      "Epoch 5/40\n",
      "15000/15000 [==============================] - 1s 36us/step - loss: 0.5144 - acc: 0.7531 - val_loss: 0.6111 - val_acc: 0.6655\n",
      "Epoch 6/40\n",
      "15000/15000 [==============================] - 0s 31us/step - loss: 0.4750 - acc: 0.7821 - val_loss: 0.6219 - val_acc: 0.6710\n",
      "Epoch 7/40\n",
      "15000/15000 [==============================] - 0s 30us/step - loss: 0.4459 - acc: 0.7997 - val_loss: 0.6334 - val_acc: 0.6687\n",
      "Epoch 8/40\n",
      "15000/15000 [==============================] - 0s 28us/step - loss: 0.4234 - acc: 0.8123 - val_loss: 0.6467 - val_acc: 0.6681\n",
      "Epoch 9/40\n",
      "15000/15000 [==============================] - 0s 30us/step - loss: 0.4055 - acc: 0.8221 - val_loss: 0.6622 - val_acc: 0.6696\n",
      "Epoch 10/40\n",
      "15000/15000 [==============================] - 0s 33us/step - loss: 0.3907 - acc: 0.8265 - val_loss: 0.6780 - val_acc: 0.6671\n",
      "Epoch 11/40\n",
      "15000/15000 [==============================] - 1s 40us/step - loss: 0.3800 - acc: 0.8306 - val_loss: 0.6883 - val_acc: 0.6657\n",
      "Epoch 12/40\n",
      "15000/15000 [==============================] - 0s 31us/step - loss: 0.3690 - acc: 0.8364 - val_loss: 0.7099 - val_acc: 0.6642\n",
      "Epoch 13/40\n",
      "15000/15000 [==============================] - 0s 32us/step - loss: 0.3601 - acc: 0.8410 - val_loss: 0.7270 - val_acc: 0.6638\n",
      "Epoch 14/40\n",
      "15000/15000 [==============================] - 0s 32us/step - loss: 0.3536 - acc: 0.8441 - val_loss: 0.7413 - val_acc: 0.6656\n",
      "Epoch 15/40\n",
      "15000/15000 [==============================] - 1s 40us/step - loss: 0.3473 - acc: 0.8474 - val_loss: 0.7514 - val_acc: 0.6651\n",
      "Epoch 16/40\n",
      "15000/15000 [==============================] - 1s 39us/step - loss: 0.3430 - acc: 0.8471 - val_loss: 0.7664 - val_acc: 0.6644\n",
      "Epoch 17/40\n",
      "15000/15000 [==============================] - 1s 39us/step - loss: 0.3394 - acc: 0.8497 - val_loss: 0.7763 - val_acc: 0.6608\n",
      "Epoch 18/40\n",
      "15000/15000 [==============================] - 1s 43us/step - loss: 0.3354 - acc: 0.8495 - val_loss: 0.7866 - val_acc: 0.6625\n",
      "Epoch 19/40\n",
      "15000/15000 [==============================] - 1s 46us/step - loss: 0.3338 - acc: 0.8513 - val_loss: 0.8038 - val_acc: 0.6631\n",
      "Epoch 20/40\n",
      "15000/15000 [==============================] - 1s 44us/step - loss: 0.3293 - acc: 0.8507 - val_loss: 0.8026 - val_acc: 0.6635\n",
      "Epoch 21/40\n",
      "15000/15000 [==============================] - 0s 33us/step - loss: 0.3257 - acc: 0.8533 - val_loss: 0.8186 - val_acc: 0.6620\n",
      "Epoch 22/40\n",
      "15000/15000 [==============================] - 0s 31us/step - loss: 0.3239 - acc: 0.8550 - val_loss: 0.8249 - val_acc: 0.6623\n",
      "Epoch 23/40\n",
      "15000/15000 [==============================] - 0s 31us/step - loss: 0.3213 - acc: 0.8558 - val_loss: 0.8350 - val_acc: 0.6611\n",
      "Epoch 24/40\n",
      "15000/15000 [==============================] - 0s 31us/step - loss: 0.3185 - acc: 0.8567 - val_loss: 0.8524 - val_acc: 0.6608\n",
      "Epoch 25/40\n",
      "15000/15000 [==============================] - 1s 37us/step - loss: 0.3154 - acc: 0.8577 - val_loss: 0.8482 - val_acc: 0.6602\n",
      "Epoch 26/40\n",
      "15000/15000 [==============================] - 0s 31us/step - loss: 0.3132 - acc: 0.8573 - val_loss: 0.8632 - val_acc: 0.6606\n",
      "Epoch 27/40\n",
      "15000/15000 [==============================] - 1s 33us/step - loss: 0.3098 - acc: 0.8591 - val_loss: 0.8680 - val_acc: 0.6613\n",
      "Epoch 28/40\n",
      "15000/15000 [==============================] - 0s 29us/step - loss: 0.3067 - acc: 0.8609 - val_loss: 0.8795 - val_acc: 0.6619\n",
      "Epoch 29/40\n",
      "15000/15000 [==============================] - 0s 30us/step - loss: 0.3027 - acc: 0.8626 - val_loss: 0.8976 - val_acc: 0.6604\n",
      "Epoch 30/40\n",
      "15000/15000 [==============================] - 0s 29us/step - loss: 0.2990 - acc: 0.8633 - val_loss: 0.9021 - val_acc: 0.6597\n",
      "Epoch 31/40\n",
      "15000/15000 [==============================] - 0s 27us/step - loss: 0.2943 - acc: 0.8643 - val_loss: 0.9204 - val_acc: 0.6582\n",
      "Epoch 32/40\n",
      "15000/15000 [==============================] - 1s 36us/step - loss: 0.2890 - acc: 0.8663 - val_loss: 0.9374 - val_acc: 0.6589\n",
      "Epoch 33/40\n",
      "15000/15000 [==============================] - 0s 29us/step - loss: 0.2842 - acc: 0.8686 - val_loss: 0.9555 - val_acc: 0.6610\n",
      "Epoch 34/40\n",
      "15000/15000 [==============================] - 1s 36us/step - loss: 0.2782 - acc: 0.8730 - val_loss: 0.9604 - val_acc: 0.6580\n",
      "Epoch 35/40\n",
      "15000/15000 [==============================] - 0s 30us/step - loss: 0.2718 - acc: 0.8748 - val_loss: 1.0050 - val_acc: 0.6582\n",
      "Epoch 36/40\n",
      "15000/15000 [==============================] - 1s 42us/step - loss: 0.2662 - acc: 0.8783 - val_loss: 1.0016 - val_acc: 0.6584\n",
      "Epoch 37/40\n",
      "15000/15000 [==============================] - 0s 31us/step - loss: 0.2611 - acc: 0.8794 - val_loss: 1.0391 - val_acc: 0.6544\n",
      "Epoch 38/40\n",
      "15000/15000 [==============================] - 1s 37us/step - loss: 0.2547 - acc: 0.8821 - val_loss: 1.0329 - val_acc: 0.6543\n",
      "Epoch 39/40\n",
      "15000/15000 [==============================] - 0s 28us/step - loss: 0.2477 - acc: 0.8875 - val_loss: 1.0574 - val_acc: 0.6570\n",
      "Epoch 40/40\n",
      "15000/15000 [==============================] - 0s 33us/step - loss: 0.2429 - acc: 0.8883 - val_loss: 1.0686 - val_acc: 0.6543\n"
     ]
    }
   ],
   "source": [
    "history = model.fit(partial_x_train,\n",
    "                    partial_y_train,\n",
    "                    epochs=40,\n",
    "                    batch_size=512,\n",
    "                    validation_data=(x_val, y_val),\n",
    "                    verbose=1)\n",
    "\n"
   ]
  },
  {
   "cell_type": "markdown",
   "metadata": {},
   "source": [
    "Evaluation.."
   ]
  },
  {
   "cell_type": "code",
   "execution_count": 14,
   "metadata": {},
   "outputs": [
    {
     "name": "stdout",
     "output_type": "stream",
     "text": [
      "25000/25000 [==============================] - 51s 2ms/step\n",
      "[3.5291021978759765, 0.50056]\n"
     ]
    }
   ],
   "source": [
    "results = model.evaluate(test_data, test_labels)\n",
    "\n",
    "print(results)"
   ]
  }
 ],
 "metadata": {
  "kernelspec": {
   "display_name": "Python 3",
   "language": "python",
   "name": "python3"
  },
  "language_info": {
   "codemirror_mode": {
    "name": "ipython",
    "version": 3
   },
   "file_extension": ".py",
   "mimetype": "text/x-python",
   "name": "python",
   "nbconvert_exporter": "python",
   "pygments_lexer": "ipython3",
   "version": "3.6.1"
  }
 },
 "nbformat": 4,
 "nbformat_minor": 2
}
